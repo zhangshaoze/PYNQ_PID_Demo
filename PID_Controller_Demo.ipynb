{
 "cells": [
  {
   "cell_type": "markdown",
   "metadata": {},
   "source": [
    "# PID Controller Visualization\n",
    "## Let's play with PIDs\n",
    "用摇杆或者角位移传感器作为输入改变参数值，用按钮切换要改变的参数\n",
    "->最后用的按键和开关解决。"
   ]
  },
  {
   "cell_type": "code",
   "execution_count": 9,
   "metadata": {},
   "outputs": [],
   "source": [
    "import matplotlib\n",
    "# for plotting graphs\n",
    "import matplotlib.pyplot as plt\n",
    "# for plotting images\n",
    "import matplotlib.image as mpimg\n",
    "from ipywidgets import interact, interactive, fixed, interact_manual\n",
    "import ipywidgets as widgets\n",
    "%matplotlib inline\n",
    "#from IPython.display import display, HTML\n",
    "# for working with array-like data structures\n",
    "import numpy as np\n",
    "\n",
    "from pynq import PL\n",
    "from pynq.overlays.base import BaseOverlay\n",
    "\n",
    "base = BaseOverlay(\"base.bit\")\n",
    "    \n",
    "sv = []\n",
    "\n",
    "# Our timeStep is 0.01 in a timeInterval of 10seconds, giving us 1,000 points to have a set value for\n",
    "for i in range(0,1000):\n",
    "    sv.append(0)\n",
    "\n",
    "# We're going to place a jump for our set value back to 23 degrees at 2.5 seconds (the 249th point in the sv list)\n",
    "# and have the temperature return back to 0 degrees around 7.5 seconds.\n",
    "for i in range(249,750):\n",
    "    sv[i] = 23"
   ]
  },
  {
   "cell_type": "markdown",
   "metadata": {},
   "source": [
    "## PID Controller Define\n",
    "实现PID误差控制的功能"
   ]
  },
  {
   "cell_type": "code",
   "execution_count": 10,
   "metadata": {},
   "outputs": [],
   "source": [
    "def PIDController(pv_, Kp_, Ki_, Kd_):\n",
    "    # Our pv (present value) and sv (set value) lists\n",
    "    pv = [pv_]\n",
    "    \n",
    "    # We'll add another list for keeping track of the accumulated error for our integral term as we move along\n",
    "    # in the simulation\n",
    "    accumulatedError = [0]\n",
    "    \n",
    "    # We'll add a variable to keep track of what the previous error was\n",
    "    previousError = 0\n",
    "    \n",
    "\n",
    "\n",
    "    # We'll set the constants for tuning our PID Controller\n",
    "    \n",
    "    Kp = Kp_/10\n",
    "    Ki = Ki_/100\n",
    "    Kd = Kd_/100\n",
    "\n",
    "\n",
    "    # We're only going to give our temperature controller a limited time frame, because we're going to plot this data\n",
    "    # First we determine what the time step of our simulation is going to be.\n",
    "    timeStep = 0.01\n",
    "    # Then we determine the time interval we're interested in looking at (how long the sim runs). Assume seconds.\n",
    "    timeInterval = 10\n",
    "    # This means we'll have (timeInterval / timeStep) number of measurements to graph\n",
    "    totalTimeSteps = int(timeInterval/timeStep)\n",
    "\n",
    "    # Now we define a numpy array for storing our time sequences\n",
    "    # data = [listOfTime, listOfPV]\n",
    "    data = np.zeros((totalTimeSteps,2))\n",
    "    #hdisplay = display(HTML(''), display_id=True) # Initialize display variable\n",
    "    # Now we implement the proportional-integral controller\n",
    "    # We'll loop through all the possible time steps in our time interval\n",
    "    for time in range(0,totalTimeSteps):\n",
    "        # Calculate the \"controller error\" at this time step.\n",
    "        controllerError = sv[time] - pv[time]\n",
    "        \n",
    "        # Calculate the \"accumulated error\" at this time step\n",
    "        # We can only accumulate error over a time interval\n",
    "        if time > 0:\n",
    "            accumulatedError.append(accumulatedError[time-1] + controllerError)\n",
    "            \n",
    "        # Calculate the proportional term of our controller\n",
    "        proportional = Kp*controllerError\n",
    "        \n",
    "        #Calculate the inegral term of our controller\n",
    "        integral = Ki*accumulatedError[time]\n",
    "        \n",
    "        #Calculate the derivative term of our controller\n",
    "        derivative = Kd*(previousError - controllerError)\n",
    "        # Our current controllerError becomes our previousError\n",
    "        previousError = controllerError\n",
    "        \n",
    "        # Now find the \"controller output\" \n",
    "        controllerOutput = proportional + integral + derivative\n",
    "        \n",
    "        # In the simplest case, our controller makes the adjustment immediately. \n",
    "        pv.append(pv[time] + controllerOutput)\n",
    "        data[time,0] = time*timeStep\n",
    "        data[time, 1] = pv[time+1]\n",
    "\n",
    "    # print(data)\n",
    "\n",
    "    # Now we'll plot the data using plt.plot(xValues, yValues)\n",
    "    # Then call plt.show() to take a look\n",
    "    plt.plot(data[:,0],data[:,1])\n",
    "    plt.plot(data[:,0],sv, linestyle=\"-.\" )\n",
    "    plt.legend(['Output','Reference'],loc='best')\n",
    "\n",
    "\n",
    "    #hdisplay.update(plt.plot(data[:,0],data[:,1]))\n",
    "    plt.show()"
   ]
  },
  {
   "cell_type": "code",
   "execution_count": 11,
   "metadata": {
    "scrolled": false
   },
   "outputs": [
    {
     "data": {
      "image/png": "[encoded data removed]",
      "text/plain": [
       "<matplotlib.figure.Figure at 0xad19bb70>"
      ]
     },
     "metadata": {},
     "output_type": "display_data"
    }
   ],
   "source": [
    "# Call the function as PIDController(pv_, Kp_, Ki_, Kd_)\n",
    "# 测试是不是好使\n",
    "#PIDController(23,0.1,0.01,0.01)\n",
    "\n",
    "PIDController(23,1,1,1)"
   ]
  },
  {
   "cell_type": "markdown",
   "metadata": {},
   "source": [
    "## PID Visualization PART I\n",
    "PID控制的可视化，鼠标交互模式"
   ]
  },
  {
   "cell_type": "code",
   "execution_count": 12,
   "metadata": {
    "scrolled": false
   },
   "outputs": [
    {
     "data": {
      "application/vnd.jupyter.widget-view+json": {
       "model_id": "1bc3bcd290414f998f21e220b09aa983",
       "version_major": 2,
       "version_minor": 0
      },
      "text/plain": [
       "interactive(children=(FloatSlider(value=23.0, continuous_update=False, description='pv_', max=30.0, step=0.5),…"
      ]
     },
     "metadata": {},
     "output_type": "display_data"
    },
    {
     "data": {
      "text/plain": [
       "<function __main__.PIDController>"
      ]
     },
     "execution_count": 12,
     "metadata": {},
     "output_type": "execute_result"
    }
   ],
   "source": [
    "interact(PIDController,pv_ = widgets.FloatSlider(value=23,min=0,max=30.0,step=0.5,continuous_update=False), Kp_= widgets.FloatSlider(value=1,min=0,max=30,step=0.1,continuous_update=False), Ki_= widgets.FloatSlider(value=1,min=0,max=30,step=0.1,continuous_update=False),\n",
    "    Kd_= widgets.FloatSlider(value=1,min=0,max=30,step=0.1,continuous_update=False))"
   ]
  },
  {
   "cell_type": "markdown",
   "metadata": {},
   "source": [
    "## PID Visualization PART II\n",
    "PID控制的可视化，按键、开关交互模式。采用协程的方式实现\n",
    "P.S.本来想采用角位移传感器和摇杆，但是新版库一直不好使,更新之后旧版库也不好使就没加！！！\n",
    "臣妾真的做不到啊！！！！！！"
   ]
  },
  {
   "cell_type": "markdown",
   "metadata": {},
   "source": [
    "创建协程\n",
    "switch0用来阻塞中断，switch1用来切换参数的增减方向。BTN[0-3]用来控制对应参数的增减"
   ]
  },
  {
   "cell_type": "code",
   "execution_count": 13,
   "metadata": {},
   "outputs": [],
   "source": [
    "import asyncio\n",
    "from IPython.display import display, clear_output\n",
    "\n",
    "Variable = [23,1,1,1]\n",
    "@asyncio.coroutine\n",
    "def flash_led(num):\n",
    "    while True:\n",
    "        yield from base.buttons[num].wait_for_value_async(1)\n",
    "        while base.buttons[num].read():\n",
    "            base.leds[num].toggle()\n",
    "            if(base.switches[1].read()):\n",
    "                Variable[num] = Variable[num] - 1\n",
    "            else:\n",
    "                Variable[num] = Variable[num] + 1\n",
    "            if(Variable[num]<=0):\n",
    "                Variable[num] = 0\n",
    "            yield from asyncio.sleep(0.2)\n",
    "        base.leds[num].off()\n",
    "        #print(Variable[num])\n",
    "        clear_output(wait=True)\n",
    "        PIDController(Variable[0],Variable[1],Variable[2],Variable[3])\n",
    "        print('起始位置:',Variable[0],'P:',Variable[1],'I:',Variable[2],'D:',Variable[3])\n",
    "tasks = [asyncio.ensure_future(flash_led(i)) for i in range(4)]"
   ]
  },
  {
   "cell_type": "markdown",
   "metadata": {},
   "source": [
    "每秒打印更新的变量信息"
   ]
  },
  {
   "cell_type": "code",
   "execution_count": null,
   "metadata": {},
   "outputs": [],
   "source": [
    "# import psutil\n",
    "\n",
    "# @asyncio.coroutine\n",
    "# def print_variable():\n",
    "#     while True:\n",
    "#         yield from asyncio.sleep(1)\n",
    "#         print(Variable)\n",
    "\n",
    "\n",
    "# tasks.append(asyncio.ensure_future(print_variable()))"
   ]
  },
  {
   "cell_type": "markdown",
   "metadata": {},
   "source": [
    "事件阻塞，等待触发"
   ]
  },
  {
   "cell_type": "code",
   "execution_count": null,
   "metadata": {
    "scrolled": false
   },
   "outputs": [],
   "source": [
    "#随便按一个按键即刻触发\n",
    "if base.switches[0].read():\n",
    "    print(\"Please set switch 0 low before running\")\n",
    "    print(Variable)\n",
    "else:\n",
    "    base.switches[0].wait_for_value(1)\n",
    "    "
   ]
  },
  {
   "cell_type": "markdown",
   "metadata": {},
   "source": [
    "清理协程：运行完拨一下switch[0]即可"
   ]
  },
  {
   "cell_type": "code",
   "execution_count": null,
   "metadata": {},
   "outputs": [],
   "source": [
    "[t.cancel() for t in tasks]\n",
    "\n",
    "base.switches[0].wait_for_value(0)"
   ]
  },
  {
   "cell_type": "code",
   "execution_count": null,
   "metadata": {},
   "outputs": [],
   "source": []
  },
  {
   "cell_type": "code",
   "execution_count": null,
   "metadata": {},
   "outputs": [],
   "source": []
  }
 ],
 "metadata": {
  "kernelspec": {
   "display_name": "Python 3",
   "language": "python",
   "name": "python3"
  },
  "language_info": {
   "codemirror_mode": {
    "name": "ipython",
    "version": 3
   },
   "file_extension": ".py",
   "mimetype": "text/x-python",
   "name": "python",
   "nbconvert_exporter": "python",
   "pygments_lexer": "ipython3",
   "version": "3.6.5"
  }
 },
 "nbformat": 4,
 "nbformat_minor": 2
}
